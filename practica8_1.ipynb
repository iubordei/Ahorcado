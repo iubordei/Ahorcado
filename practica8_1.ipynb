{
  "nbformat": 4,
  "nbformat_minor": 0,
  "metadata": {
    "kernelspec": {
      "display_name": "Python 3",
      "language": "python",
      "name": "python3"
    },
    "language_info": {
      "codemirror_mode": {
        "name": "ipython",
        "version": 3
      },
      "file_extension": ".py",
      "mimetype": "text/x-python",
      "name": "python",
      "nbconvert_exporter": "python",
      "pygments_lexer": "ipython3",
      "version": "3.6.7"
    },
    "colab": {
      "name": "practica8_1.ipynb",
      "provenance": [],
      "include_colab_link": true
    }
  },
  "cells": [
    {
      "cell_type": "markdown",
      "metadata": {
        "id": "view-in-github",
        "colab_type": "text"
      },
      "source": [
        "<a href=\"https://colab.research.google.com/github/iubordei/Ahorcado/blob/master/practica8_1.ipynb\" target=\"_parent\"><img src=\"https://colab.research.google.com/assets/colab-badge.svg\" alt=\"Open In Colab\"/></a>"
      ]
    },
    {
      "cell_type": "markdown",
      "metadata": {
        "id": "xcn8NAoAJjCJ"
      },
      "source": [
        "# Práctica 8. Ejercicio adicional 1: Sudoku. Parte II.\n",
        "\n",
        "Este notebook es el menos guiado de la asignatura. El objetivo es combinar todo lo que hemos visto a lo largo del curso para leer un Sudoku y resolverlo. Para ello tendrás que utilizar lo visto en la práctica anterior, y además [un algoritmo para resolver Sudokus](http://norvig.com/sudoku.html). A la hora de leer los dígitos del Sudoku puedes utilizar cualquiera de estas aproximaciones:\n",
        "- Utilizar propiedades de contornos como vimos en la práctica anterior. \n",
        "- [Utilizar la librería pytesseract](https://www.pyimagesearch.com/2020/09/21/opencv-automatic-license-number-plate-recognition-anpr-with-python/). \n",
        "- [Entrenar un modelo basado en el dataset MNIST](https://www.pyimagesearch.com/2020/08/10/opencv-sudoku-solver-and-ocr/)."
      ]
    },
    {
      "cell_type": "markdown",
      "metadata": {
        "id": "eeYKlC9Zv_Sw"
      },
      "source": [
        "**Librerías**"
      ]
    },
    {
      "cell_type": "code",
      "metadata": {
        "id": "sokHM6zXRMww",
        "colab": {
          "base_uri": "https://localhost:8080/"
        },
        "outputId": "1c52d0c0-4307-4bf0-8e58-b4630019482d"
      },
      "source": [
        "# Instalar\n",
        "!pip install opencv-contrib-python\n",
        "!pip install imutils\n",
        "!pip install scikit-image\n",
        "!pip install pytesseract\n",
        "!apt install tesseract-ocr"
      ],
      "execution_count": 1,
      "outputs": [
        {
          "output_type": "stream",
          "text": [
            "Requirement already satisfied: opencv-contrib-python in /usr/local/lib/python3.7/dist-packages (4.1.2.30)\n",
            "Requirement already satisfied: numpy>=1.14.5 in /usr/local/lib/python3.7/dist-packages (from opencv-contrib-python) (1.19.5)\n",
            "Requirement already satisfied: imutils in /usr/local/lib/python3.7/dist-packages (0.5.4)\n",
            "Requirement already satisfied: scikit-image in /usr/local/lib/python3.7/dist-packages (0.16.2)\n",
            "Requirement already satisfied: PyWavelets>=0.4.0 in /usr/local/lib/python3.7/dist-packages (from scikit-image) (1.1.1)\n",
            "Requirement already satisfied: networkx>=2.0 in /usr/local/lib/python3.7/dist-packages (from scikit-image) (2.5.1)\n",
            "Requirement already satisfied: scipy>=0.19.0 in /usr/local/lib/python3.7/dist-packages (from scikit-image) (1.4.1)\n",
            "Requirement already satisfied: matplotlib!=3.0.0,>=2.0.0 in /usr/local/lib/python3.7/dist-packages (from scikit-image) (3.2.2)\n",
            "Requirement already satisfied: imageio>=2.3.0 in /usr/local/lib/python3.7/dist-packages (from scikit-image) (2.4.1)\n",
            "Requirement already satisfied: pillow>=4.3.0 in /usr/local/lib/python3.7/dist-packages (from scikit-image) (7.1.2)\n",
            "Requirement already satisfied: numpy>=1.13.3 in /usr/local/lib/python3.7/dist-packages (from PyWavelets>=0.4.0->scikit-image) (1.19.5)\n",
            "Requirement already satisfied: decorator<5,>=4.3 in /usr/local/lib/python3.7/dist-packages (from networkx>=2.0->scikit-image) (4.4.2)\n",
            "Requirement already satisfied: pyparsing!=2.0.4,!=2.1.2,!=2.1.6,>=2.0.1 in /usr/local/lib/python3.7/dist-packages (from matplotlib!=3.0.0,>=2.0.0->scikit-image) (2.4.7)\n",
            "Requirement already satisfied: kiwisolver>=1.0.1 in /usr/local/lib/python3.7/dist-packages (from matplotlib!=3.0.0,>=2.0.0->scikit-image) (1.3.1)\n",
            "Requirement already satisfied: python-dateutil>=2.1 in /usr/local/lib/python3.7/dist-packages (from matplotlib!=3.0.0,>=2.0.0->scikit-image) (2.8.1)\n",
            "Requirement already satisfied: cycler>=0.10 in /usr/local/lib/python3.7/dist-packages (from matplotlib!=3.0.0,>=2.0.0->scikit-image) (0.10.0)\n",
            "Requirement already satisfied: six>=1.5 in /usr/local/lib/python3.7/dist-packages (from python-dateutil>=2.1->matplotlib!=3.0.0,>=2.0.0->scikit-image) (1.15.0)\n",
            "Collecting pytesseract\n",
            "  Downloading https://files.pythonhosted.org/packages/a0/e6/a4e9fc8a93c1318540e8de6d8d4beb5749b7960388a7c7f27799fc2dd016/pytesseract-0.3.7.tar.gz\n",
            "Requirement already satisfied: Pillow in /usr/local/lib/python3.7/dist-packages (from pytesseract) (7.1.2)\n",
            "Building wheels for collected packages: pytesseract\n",
            "  Building wheel for pytesseract (setup.py) ... \u001b[?25l\u001b[?25hdone\n",
            "  Created wheel for pytesseract: filename=pytesseract-0.3.7-py2.py3-none-any.whl size=13945 sha256=7e59bdc21f877245493ec864971b882ed1705798e22dcdc5dea3b36a68b86e91\n",
            "  Stored in directory: /root/.cache/pip/wheels/81/20/7e/1dd0daad1575d5260916bb1e9781246430647adaef4b3ca3b3\n",
            "Successfully built pytesseract\n",
            "Installing collected packages: pytesseract\n",
            "Successfully installed pytesseract-0.3.7\n",
            "Reading package lists... Done\n",
            "Building dependency tree       \n",
            "Reading state information... Done\n",
            "The following package was automatically installed and is no longer required:\n",
            "  libnvidia-common-460\n",
            "Use 'apt autoremove' to remove it.\n",
            "The following additional packages will be installed:\n",
            "  tesseract-ocr-eng tesseract-ocr-osd\n",
            "The following NEW packages will be installed:\n",
            "  tesseract-ocr tesseract-ocr-eng tesseract-ocr-osd\n",
            "0 upgraded, 3 newly installed, 0 to remove and 34 not upgraded.\n",
            "Need to get 4,795 kB of archives.\n",
            "After this operation, 15.8 MB of additional disk space will be used.\n",
            "Get:1 http://archive.ubuntu.com/ubuntu bionic/universe amd64 tesseract-ocr-eng all 4.00~git24-0e00fe6-1.2 [1,588 kB]\n",
            "Get:2 http://archive.ubuntu.com/ubuntu bionic/universe amd64 tesseract-ocr-osd all 4.00~git24-0e00fe6-1.2 [2,989 kB]\n",
            "Get:3 http://archive.ubuntu.com/ubuntu bionic/universe amd64 tesseract-ocr amd64 4.00~git2288-10f4998a-2 [218 kB]\n",
            "Fetched 4,795 kB in 0s (27.4 MB/s)\n",
            "Selecting previously unselected package tesseract-ocr-eng.\n",
            "(Reading database ... 160690 files and directories currently installed.)\n",
            "Preparing to unpack .../tesseract-ocr-eng_4.00~git24-0e00fe6-1.2_all.deb ...\n",
            "Unpacking tesseract-ocr-eng (4.00~git24-0e00fe6-1.2) ...\n",
            "Selecting previously unselected package tesseract-ocr-osd.\n",
            "Preparing to unpack .../tesseract-ocr-osd_4.00~git24-0e00fe6-1.2_all.deb ...\n",
            "Unpacking tesseract-ocr-osd (4.00~git24-0e00fe6-1.2) ...\n",
            "Selecting previously unselected package tesseract-ocr.\n",
            "Preparing to unpack .../tesseract-ocr_4.00~git2288-10f4998a-2_amd64.deb ...\n",
            "Unpacking tesseract-ocr (4.00~git2288-10f4998a-2) ...\n",
            "Setting up tesseract-ocr-osd (4.00~git24-0e00fe6-1.2) ...\n",
            "Setting up tesseract-ocr-eng (4.00~git24-0e00fe6-1.2) ...\n",
            "Setting up tesseract-ocr (4.00~git2288-10f4998a-2) ...\n",
            "Processing triggers for man-db (2.8.3-2ubuntu0.1) ...\n"
          ],
          "name": "stdout"
        }
      ]
    },
    {
      "cell_type": "code",
      "metadata": {
        "id": "BxXAyCfkssGh"
      },
      "source": [
        "# Importar\n",
        "import pytesseract\n",
        "import numpy as np\n",
        "import imutils\n",
        "import cv2\n",
        "from imutils import paths\n",
        "import matplotlib.pyplot as plt\n",
        "%matplotlib inline"
      ],
      "execution_count": 2,
      "outputs": []
    },
    {
      "cell_type": "markdown",
      "metadata": {
        "id": "nQTYl07vv8f-"
      },
      "source": [
        "**Funciones**"
      ]
    },
    {
      "cell_type": "code",
      "metadata": {
        "id": "-fD8vUolR23V"
      },
      "source": [
        "def build_tesseract_options(psm=7):\n",
        "    # tell Tesseract to only OCR alphanumeric characters\n",
        "    alphanumeric = \"ABCDEFGHIJKLMNOPQRSTUVWXYZ0123456789\"\n",
        "    options = \"-c tessedit_char_whitelist={}\".format(alphanumeric)\n",
        "    # set the PSM mode\n",
        "    options += \" --psm {}\".format(psm)\n",
        "    # return the built options string\n",
        "    return options"
      ],
      "execution_count": 3,
      "outputs": []
    },
    {
      "cell_type": "code",
      "metadata": {
        "id": "9yDk3SLeX99x"
      },
      "source": [
        "def cross(A, B):\n",
        "    \"Cross product of elements in A and elements in B.\"\n",
        "    return [a+b for a in A for b in B]\n",
        "\n",
        "digits   = '123456789'\n",
        "rows     = 'ABCDEFGHI'\n",
        "cols     = digits\n",
        "squares  = cross(rows, cols)\n",
        "unitlist = ([cross(rows, c) for c in cols] +\n",
        "            [cross(r, cols) for r in rows] +\n",
        "            [cross(rs, cs) for rs in ('ABC','DEF','GHI') for cs in ('123','456','789')])\n",
        "units = dict((s, [u for u in unitlist if s in u]) for s in squares)\n",
        "peers = dict((s, set(sum(units[s],[]))-set([s])) for s in squares)"
      ],
      "execution_count": 4,
      "outputs": []
    },
    {
      "cell_type": "code",
      "metadata": {
        "id": "L4iV8PDYX-lc"
      },
      "source": [
        "def test():\n",
        "    \"A set of unit tests.\"\n",
        "    assert len(squares) == 81\n",
        "    assert len(unitlist) == 27\n",
        "    assert all(len(units[s]) == 3 for s in squares)\n",
        "    assert all(len(peers[s]) == 20 for s in squares)\n",
        "    assert units['C2'] == [['A2', 'B2', 'C2', 'D2', 'E2', 'F2', 'G2', 'H2', 'I2'],\n",
        "                           ['C1', 'C2', 'C3', 'C4', 'C5', 'C6', 'C7', 'C8', 'C9'],\n",
        "                           ['A1', 'A2', 'A3', 'B1', 'B2', 'B3', 'C1', 'C2', 'C3']]\n",
        "    assert peers['C2'] == set(['A2', 'B2', 'D2', 'E2', 'F2', 'G2', 'H2', 'I2',\n",
        "                               'C1', 'C3', 'C4', 'C5', 'C6', 'C7', 'C8', 'C9',\n",
        "                               'A1', 'A3', 'B1', 'B3'])\n",
        "    print('All tests pass.')"
      ],
      "execution_count": 5,
      "outputs": []
    },
    {
      "cell_type": "code",
      "metadata": {
        "id": "8cJppFHSYDIi"
      },
      "source": [
        "def parse_grid(grid):\n",
        "    \"\"\"Convert grid to a dict of possible values, {square: digits}, or\n",
        "    return False if a contradiction is detected.\"\"\"\n",
        "    ## To start, every square can be any digit; then assign values from the grid.\n",
        "    values = dict((s, digits) for s in squares)\n",
        "    for s,d in grid_values(grid).items():\n",
        "        if d in digits and not assign(values, s, d):\n",
        "            return False ## (Fail if we can't assign d to square s.)\n",
        "    return values\n",
        "\n",
        "def grid_values(grid):\n",
        "    \"Convert grid into a dict of {square: char} with '0' or '.' for empties.\"\n",
        "    chars = [c for c in grid if c in digits or c in '0.']\n",
        "    assert len(chars) == 81\n",
        "    return dict(zip(squares, chars))"
      ],
      "execution_count": 6,
      "outputs": []
    },
    {
      "cell_type": "code",
      "metadata": {
        "id": "PohL547mYIGN"
      },
      "source": [
        "def assign(values, s, d):\n",
        "    \"\"\"Eliminate all the other values (except d) from values[s] and propagate.\n",
        "    Return values, except return False if a contradiction is detected.\"\"\"\n",
        "    other_values = values[s].replace(d, '')\n",
        "    if all(eliminate(values, s, d2) for d2 in other_values):\n",
        "        return values\n",
        "    else:\n",
        "        return False\n",
        "\n",
        "def eliminate(values, s, d):\n",
        "    \"\"\"Eliminate d from values[s]; propagate when values or places <= 2.\n",
        "    Return values, except return False if a contradiction is detected.\"\"\"\n",
        "    if d not in values[s]:\n",
        "        return values ## Already eliminated\n",
        "    values[s] = values[s].replace(d,'')\n",
        "    ## (1) If a square s is reduced to one value d2, then eliminate d2 from the peers.\n",
        "    if len(values[s]) == 0:\n",
        "        return False ## Contradiction: removed last value\n",
        "    elif len(values[s]) == 1:\n",
        "        d2 = values[s]\n",
        "        if not all(eliminate(values, s2, d2) for s2 in peers[s]):\n",
        "            return False\n",
        "    ## (2) If a unit u is reduced to only one place for a value d, then put it there.\n",
        "    for u in units[s]:\n",
        "        dplaces = [s for s in u if d in values[s]]\n",
        "        if len(dplaces) == 0:\n",
        "            return False ## Contradiction: no place for this value\n",
        "        elif len(dplaces) == 1:\n",
        "            # d can only be in one place in unit; assign it there\n",
        "            if not assign(values, dplaces[0], d):\n",
        "                return False\n",
        "    return values"
      ],
      "execution_count": 7,
      "outputs": []
    },
    {
      "cell_type": "code",
      "metadata": {
        "id": "HeE01pYcYLlM"
      },
      "source": [
        "def display(values):\n",
        "    \"Display these values as a 2-D grid.\"\n",
        "    width = 1+max(len(values[s]) for s in squares)\n",
        "    line = '+'.join(['-'*(width*3)]*3)\n",
        "    for r in rows:\n",
        "        print(''.join(values[r+c].center(width)+('|' if c in '36' else '') for c in cols))\n",
        "        if r in 'CF':\n",
        "            print(line)\n",
        "    print"
      ],
      "execution_count": 8,
      "outputs": []
    },
    {
      "cell_type": "code",
      "metadata": {
        "id": "UDBZ09cLYPd2"
      },
      "source": [
        "def solve(grid): return search(parse_grid(grid))\n",
        "\n",
        "def search(values):\n",
        "    \"Using depth-first search and propagation, try all possible values.\"\n",
        "    if values is False:\n",
        "        return False ## Failed earlier\n",
        "    if all(len(values[s]) == 1 for s in squares): \n",
        "        return values ## Solved!\n",
        "    ## Chose the unfilled square s with the fewest possibilities\n",
        "    n,s = min((len(values[s]), s) for s in squares if len(values[s]) > 1)\n",
        "    return some(search(assign(values.copy(), s, d)) \n",
        "\t\tfor d in values[s])\n",
        "\n",
        "def some(seq):\n",
        "    \"Return some element of seq that is true.\"\n",
        "    for e in seq:\n",
        "        if e: return e\n",
        "    return False"
      ],
      "execution_count": 9,
      "outputs": []
    },
    {
      "cell_type": "code",
      "metadata": {
        "id": "2r46nlDsNd5J"
      },
      "source": [
        "def tiene_num(casilla):\n",
        "    w = casilla.shape[1]\n",
        "    h = casilla.shape[0]\n",
        "    options = build_tesseract_options(psm=7)\n",
        "    for i in range(0, w-1):\n",
        "        for j in range(0, h-1):\n",
        "            (b, g, r) = casilla[i, j]\n",
        "            if (b != 255) or (g != 255) or (r != 255):\n",
        "                return pytesseract.image_to_string(casilla, config=options)[0]\n",
        "    return '.'"
      ],
      "execution_count": 10,
      "outputs": []
    },
    {
      "cell_type": "markdown",
      "metadata": {
        "id": "2a-Ory1WPDWg"
      },
      "source": [
        "**Código de la práctica 7, ampliación 2**"
      ]
    },
    {
      "cell_type": "code",
      "metadata": {
        "id": "ftJX9buIPCxx"
      },
      "source": [
        "def sort_contours(cnts):\n",
        "    boundingBoxes = [cv2.boundingRect(c) for c in cnts]\n",
        "    (cnts, boundingBoxes) = zip(*sorted(zip(cnts, boundingBoxes),key=lambda b:(b[1][1],b[1][0]), reverse=False))\n",
        "    return cnts"
      ],
      "execution_count": 11,
      "outputs": []
    },
    {
      "cell_type": "code",
      "metadata": {
        "id": "paNgs1YkNf6o"
      },
      "source": [
        "def generaTablero(imagen):\n",
        "    clone = imagen.copy()\n",
        "    gray = cv2.cvtColor(clone, cv2.COLOR_BGR2GRAY)\n",
        "    thresh = cv2.threshold(gray, 30, 255, cv2.THRESH_BINARY_INV)[1]\n",
        "    \n",
        "    cnts,_ = cv2.findContours(thresh.copy(), cv2.RETR_LIST, cv2.CHAIN_APPROX_SIMPLE)\n",
        "    cnts = sort_contours(cnts)\n",
        "    contornos = []\n",
        "    \n",
        "    for (i, c) in enumerate(cnts):\n",
        "        # Calculamos diversas propiedades\n",
        "        area = cv2.contourArea(c)\n",
        "        (x, y, w, h) = cv2.boundingRect(c)\n",
        "        aspectRatio = w / float(h)\n",
        "        extent = area / float(w * h)\n",
        "        hull = cv2.convexHull(c)\n",
        "        hullArea = cv2.contourArea(hull)\n",
        "        solidity = area / float(hullArea)\n",
        "    \n",
        "        if (solidity == 1.0) and (area > 1000) and (area < 2000):\n",
        "            contornos.insert(i, c)\n",
        "    \n",
        "    boundingBoxes = [cv2.boundingRect(c) for c in contornos]\n",
        "    cad = ''\n",
        "    for (x, y, h, w) in boundingBoxes:\n",
        "        cas = clone[y+3:y+w-3, x+3:x+h-3]\n",
        "        cad += tiene_num(cas)\n",
        "    \n",
        "    return(cad)"
      ],
      "execution_count": 12,
      "outputs": []
    },
    {
      "cell_type": "code",
      "metadata": {
        "id": "Ykk0UsFrZ2nn"
      },
      "source": [
        "def mostrarImagen(image):\n",
        "    if len(image.shape)==3:\n",
        "        img2 = image[:,:,::-1]\n",
        "        plt.imshow(img2)\n",
        "        plt.show()\n",
        "    else:\n",
        "        img2 = image\n",
        "        plt.imshow(img2,cmap='gray')\n",
        "        plt.show()"
      ],
      "execution_count": 13,
      "outputs": []
    },
    {
      "cell_type": "markdown",
      "metadata": {
        "id": "T53jzBJNwbfu"
      },
      "source": [
        "**Descargar imágenes de sudokus**"
      ]
    },
    {
      "cell_type": "code",
      "metadata": {
        "id": "FnkjeR1AZ9Nm",
        "colab": {
          "base_uri": "https://localhost:8080/"
        },
        "outputId": "e1270ced-597a-4991-85e7-c1b164f1b798"
      },
      "source": [
        "!wget https://github.com/IA1819/Datasets/blob/master/im%C3%A1genes.zip?raw=true -O imagenes.zip\n",
        "!unzip imagenes.zip"
      ],
      "execution_count": 14,
      "outputs": [
        {
          "output_type": "stream",
          "text": [
            "--2021-04-29 17:35:48--  https://github.com/IA1819/Datasets/blob/master/im%C3%A1genes.zip?raw=true\n",
            "Resolving github.com (github.com)... 140.82.121.4\n",
            "Connecting to github.com (github.com)|140.82.121.4|:443... connected.\n",
            "HTTP request sent, awaiting response... 302 Found\n",
            "Location: https://github.com/IA1819/Datasets/raw/master/im%C3%A1genes.zip [following]\n",
            "--2021-04-29 17:35:48--  https://github.com/IA1819/Datasets/raw/master/im%C3%A1genes.zip\n",
            "Reusing existing connection to github.com:443.\n",
            "HTTP request sent, awaiting response... 302 Found\n",
            "Location: https://raw.githubusercontent.com/IA1819/Datasets/master/im%C3%A1genes.zip [following]\n",
            "--2021-04-29 17:35:48--  https://raw.githubusercontent.com/IA1819/Datasets/master/im%C3%A1genes.zip\n",
            "Resolving raw.githubusercontent.com (raw.githubusercontent.com)... 185.199.110.133, 185.199.108.133, 185.199.111.133, ...\n",
            "Connecting to raw.githubusercontent.com (raw.githubusercontent.com)|185.199.110.133|:443... connected.\n",
            "HTTP request sent, awaiting response... 200 OK\n",
            "Length: 282251 (276K) [application/zip]\n",
            "Saving to: ‘imagenes.zip’\n",
            "\n",
            "imagenes.zip        100%[===================>] 275.64K  --.-KB/s    in 0.02s   \n",
            "\n",
            "2021-04-29 17:35:49 (14.9 MB/s) - ‘imagenes.zip’ saved [282251/282251]\n",
            "\n",
            "Archive:  imagenes.zip\n",
            "   creating: imágenes/\n",
            "  inflating: imágenes/tornillos.png  \n",
            "  inflating: imágenes/thresh.png    \n",
            "  inflating: imágenes/sudoku3.png   \n",
            "  inflating: imágenes/sudoku2.png   \n",
            "  inflating: imágenes/tetris_blocks.png  \n",
            "  inflating: imágenes/more_shapes.png  \n",
            "  inflating: imágenes/sudoku1.png   \n",
            "  inflating: imágenes/contours_convex_hull.jpg  \n",
            "  inflating: imágenes/basic_shapes.png  \n",
            "  inflating: imágenes/contours_tictactoe.png  \n",
            "  inflating: imágenes/playa-paraiso.jpg  \n",
            "  inflating: imágenes/gato.jpg      \n",
            "  inflating: imágenes/ur.jpeg       \n"
          ],
          "name": "stdout"
        }
      ]
    },
    {
      "cell_type": "code",
      "metadata": {
        "id": "-bX0GgmfaAFW",
        "colab": {
          "base_uri": "https://localhost:8080/",
          "height": 269
        },
        "outputId": "d9da5ab6-65b8-499e-d714-9a684783e222"
      },
      "source": [
        "sudoku1 = cv2.imread(\"imágenes/sudoku1.png\")\n",
        "mostrarImagen(sudoku1)"
      ],
      "execution_count": 15,
      "outputs": [
        {
          "output_type": "display_data",
          "data": {
            "image/png": "[encoded data removed]",
            "text/plain": [
              "<Figure size 432x288 with 1 Axes>"
            ]
          },
          "metadata": {
            "tags": [],
            "needs_background": "light"
          }
        }
      ]
    },
    {
      "cell_type": "code",
      "metadata": {
        "id": "bqfRzQkyNij4",
        "colab": {
          "base_uri": "https://localhost:8080/",
          "height": 35
        },
        "outputId": "57df4ad6-894d-4a09-9025-b96dc88183c9"
      },
      "source": [
        "generaTablero(sudoku1)"
      ],
      "execution_count": 16,
      "outputs": [
        {
          "output_type": "execute_result",
          "data": {
            "application/vnd.google.colaboratory.intrinsic+json": {
              "type": "string"
            },
            "text/plain": [
              "'...62.3...7........3.794.65.8....6....59.8.23..4..3...6.....5.7.924.7...7438...9.'"
            ]
          },
          "metadata": {
            "tags": []
          },
          "execution_count": 16
        }
      ]
    },
    {
      "cell_type": "markdown",
      "metadata": {
        "id": "IRpHYZUIU-EZ"
      },
      "source": [
        "**Pruebas**"
      ]
    },
    {
      "cell_type": "code",
      "metadata": {
        "id": "lXZlhzzqVADH"
      },
      "source": [
        "def resuelve(imagen):\n",
        "    mostrarImagen(imagen)\n",
        "    display(solve(generaTablero(imagen)))"
      ],
      "execution_count": 17,
      "outputs": []
    },
    {
      "cell_type": "code",
      "metadata": {
        "id": "EwJ9MTOyVNUX"
      },
      "source": [
        "s1 = cv2.imread(\"imágenes/sudoku1.png\")\n",
        "s2 = cv2.imread(\"imágenes/sudoku2.png\")\n",
        "s3 = cv2.imread(\"imágenes/sudoku3.png\")"
      ],
      "execution_count": 18,
      "outputs": []
    },
    {
      "cell_type": "code",
      "metadata": {
        "id": "5ZE6biIfVZkX",
        "colab": {
          "base_uri": "https://localhost:8080/",
          "height": 456
        },
        "outputId": "623e27d1-62a0-4d7c-e4cd-46fd61aa37d1"
      },
      "source": [
        "resuelve(s1)"
      ],
      "execution_count": 19,
      "outputs": [
        {
          "output_type": "display_data",
          "data": {
            "image/png": "[encoded data removed]",
            "text/plain": [
              "<Figure size 432x288 with 1 Axes>"
            ]
          },
          "metadata": {
            "tags": [],
            "needs_background": "light"
          }
        },
        {
          "output_type": "stream",
          "text": [
            "4 5 9 |6 2 1 |3 7 8 \n",
            "2 7 6 |3 8 5 |9 1 4 \n",
            "8 3 1 |7 9 4 |2 6 5 \n",
            "------+------+------\n",
            "3 8 7 |1 4 2 |6 5 9 \n",
            "1 6 5 |9 7 8 |4 2 3 \n",
            "9 2 4 |5 6 3 |7 8 1 \n",
            "------+------+------\n",
            "6 1 8 |2 3 9 |5 4 7 \n",
            "5 9 2 |4 1 7 |8 3 6 \n",
            "7 4 3 |8 5 6 |1 9 2 \n"
          ],
          "name": "stdout"
        }
      ]
    },
    {
      "cell_type": "code",
      "metadata": {
        "id": "56SYvNKpVrlx",
        "outputId": "16d9826d-12a1-4ce5-fbcd-f9f38615b277",
        "colab": {
          "base_uri": "https://localhost:8080/",
          "height": 456
        }
      },
      "source": [
        "resuelve(s2)"
      ],
      "execution_count": 20,
      "outputs": [
        {
          "output_type": "display_data",
          "data": {
            "image/png": "[encoded data removed]",
            "text/plain": [
              "<Figure size 432x288 with 1 Axes>"
            ]
          },
          "metadata": {
            "tags": [],
            "needs_background": "light"
          }
        },
        {
          "output_type": "stream",
          "text": [
            "9 8 4 |1 7 3 |2 6 5 \n",
            "2 3 7 |5 6 8 |4 1 9 \n",
            "5 6 1 |9 2 4 |7 8 3 \n",
            "------+------+------\n",
            "1 5 6 |7 4 2 |9 3 8 \n",
            "3 2 9 |8 5 1 |6 7 4 \n",
            "7 4 8 |6 3 9 |5 2 1 \n",
            "------+------+------\n",
            "6 7 3 |4 1 5 |8 9 2 \n",
            "8 1 5 |2 9 7 |3 4 6 \n",
            "4 9 2 |3 8 6 |1 5 7 \n"
          ],
          "name": "stdout"
        }
      ]
    },
    {
      "cell_type": "code",
      "metadata": {
        "id": "UsWLCgmwVryo",
        "outputId": "9e2ffec5-2ffc-4dec-e1c8-67d865ab5dec",
        "colab": {
          "base_uri": "https://localhost:8080/",
          "height": 456
        }
      },
      "source": [
        "resuelve(s3)"
      ],
      "execution_count": 21,
      "outputs": [
        {
          "output_type": "display_data",
          "data": {
            "image/png": "[encoded data removed]",
            "text/plain": [
              "<Figure size 432x288 with 1 Axes>"
            ]
          },
          "metadata": {
            "tags": [],
            "needs_background": "light"
          }
        },
        {
          "output_type": "stream",
          "text": [
            "5 6 8 |7 3 9 |1 4 2 \n",
            "7 2 1 |6 5 4 |8 9 3 \n",
            "3 9 4 |2 8 1 |7 6 5 \n",
            "------+------+------\n",
            "4 5 6 |1 7 2 |9 3 8 \n",
            "2 3 9 |5 4 8 |6 7 1 \n",
            "8 1 7 |9 6 3 |2 5 4 \n",
            "------+------+------\n",
            "6 7 2 |3 1 5 |4 8 9 \n",
            "1 4 5 |8 9 6 |3 2 7 \n",
            "9 8 3 |4 2 7 |5 1 6 \n"
          ],
          "name": "stdout"
        }
      ]
    },
    {
      "cell_type": "markdown",
      "metadata": {
        "id": "6JtAVS-xJjDK"
      },
      "source": [
        "Al finalizar el notebook recuerda guardarlo usando la opción *\"Save in Github...\"*. "
      ]
    }
  ]
}