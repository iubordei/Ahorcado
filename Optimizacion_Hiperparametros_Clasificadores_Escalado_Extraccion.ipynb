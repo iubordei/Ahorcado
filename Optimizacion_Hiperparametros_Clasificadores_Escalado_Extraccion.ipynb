{
  "nbformat": 4,
  "nbformat_minor": 0,
  "metadata": {
    "colab": {
      "name": "Optimizacion_Hiperparametros_Clasificadores_Escalado_Extraccion.ipynb",
      "provenance": [],
      "authorship_tag": "ABX9TyM1oXFuZHxakljLq2HQBtCx",
      "include_colab_link": true
    },
    "kernelspec": {
      "name": "python3",
      "display_name": "Python 3"
    },
    "language_info": {
      "name": "python"
    }
  },
  "cells": [
    {
      "cell_type": "markdown",
      "metadata": {
        "id": "view-in-github",
        "colab_type": "text"
      },
      "source": [
        "<a href=\"https://colab.research.google.com/github/iubordei/Ahorcado/blob/master/Optimizacion_Hiperparametros_Clasificadores_Escalado_Extraccion.ipynb\" target=\"_parent\"><img src=\"https://colab.research.google.com/assets/colab-badge.svg\" alt=\"Open In Colab\"/></a>"
      ]
    },
    {
      "cell_type": "markdown",
      "metadata": {
        "id": "_S88cUkhGGi4"
      },
      "source": [
        "# **Optimización de hiperparámetros para los clasificadores. Escalado de datos y extracción de descriptores.**"
      ]
    },
    {
      "cell_type": "markdown",
      "metadata": {
        "id": "h9A0ydcUG0_g"
      },
      "source": [
        "### **Descargar e importar dataset.**"
      ]
    },
    {
      "cell_type": "code",
      "metadata": {
        "colab": {
          "base_uri": "https://localhost:8080/"
        },
        "id": "SzIwCz-hFs2_",
        "outputId": "2d8fc7af-4344-4d7e-b926-3da69e355663"
      },
      "source": [
        "# Descargar dataset.\n",
        "!wget https://www.dropbox.com/s/lw2b4duiimsgnks/train.csv?dl=1 -O train.csv"
      ],
      "execution_count": 1,
      "outputs": [
        {
          "output_type": "stream",
          "text": [
            "--2021-04-12 08:03:45--  https://www.dropbox.com/s/lw2b4duiimsgnks/train.csv?dl=1\n",
            "Resolving www.dropbox.com (www.dropbox.com)... 162.125.6.18, 2620:100:601c:18::a27d:612\n",
            "Connecting to www.dropbox.com (www.dropbox.com)|162.125.6.18|:443... connected.\n",
            "HTTP request sent, awaiting response... 301 Moved Permanently\n",
            "Location: /s/dl/lw2b4duiimsgnks/train.csv [following]\n",
            "--2021-04-12 08:03:45--  https://www.dropbox.com/s/dl/lw2b4duiimsgnks/train.csv\n",
            "Reusing existing connection to www.dropbox.com:443.\n",
            "HTTP request sent, awaiting response... 302 Found\n",
            "Location: https://uc7ef49718463a4e4b33214ece55.dl.dropboxusercontent.com/cd/0/get/BMfdmWslKY6j5krFfpQDDjOME2xIyovl-cXw4sB-29Jq3tAWZrTqjx0cnQSiksd_ZNhLYbo6psYRfXnFzaRPJHSOmj6jdDww7_IK_Dzqj6uPF0OMupcWMLthDfNPvbl79ai59phaltCGeByDKUar0P0x/file?dl=1# [following]\n",
            "--2021-04-12 08:03:45--  https://uc7ef49718463a4e4b33214ece55.dl.dropboxusercontent.com/cd/0/get/BMfdmWslKY6j5krFfpQDDjOME2xIyovl-cXw4sB-29Jq3tAWZrTqjx0cnQSiksd_ZNhLYbo6psYRfXnFzaRPJHSOmj6jdDww7_IK_Dzqj6uPF0OMupcWMLthDfNPvbl79ai59phaltCGeByDKUar0P0x/file?dl=1\n",
            "Resolving uc7ef49718463a4e4b33214ece55.dl.dropboxusercontent.com (uc7ef49718463a4e4b33214ece55.dl.dropboxusercontent.com)... 162.125.6.15, 2620:100:6019:15::a27d:40f\n",
            "Connecting to uc7ef49718463a4e4b33214ece55.dl.dropboxusercontent.com (uc7ef49718463a4e4b33214ece55.dl.dropboxusercontent.com)|162.125.6.15|:443... connected.\n",
            "HTTP request sent, awaiting response... 200 OK\n",
            "Length: 336082 (328K) [application/binary]\n",
            "Saving to: ‘train.csv’\n",
            "\n",
            "train.csv           100%[===================>] 328.21K  --.-KB/s    in 0.008s  \n",
            "\n",
            "2021-04-12 08:03:45 (41.7 MB/s) - ‘train.csv’ saved [336082/336082]\n",
            "\n"
          ],
          "name": "stdout"
        }
      ]
    },
    {
      "cell_type": "code",
      "metadata": {
        "colab": {
          "base_uri": "https://localhost:8080/",
          "height": 204
        },
        "id": "tAkZCuD1G7Xx",
        "outputId": "08923fbe-6769-41fb-c66e-9d77f69ea00d"
      },
      "source": [
        "# Importar librería pandas.\n",
        "import pandas as pd\n",
        "# Cargar dataset de pacientes en un DataFrame.\n",
        "df = pd.read_csv('train.csv')\n",
        "df.head()"
      ],
      "execution_count": 2,
      "outputs": [
        {
          "output_type": "execute_result",
          "data": {
            "text/html": [
              "<div>\n",
              "<style scoped>\n",
              "    .dataframe tbody tr th:only-of-type {\n",
              "        vertical-align: middle;\n",
              "    }\n",
              "\n",
              "    .dataframe tbody tr th {\n",
              "        vertical-align: top;\n",
              "    }\n",
              "\n",
              "    .dataframe thead th {\n",
              "        text-align: right;\n",
              "    }\n",
              "</style>\n",
              "<table border=\"1\" class=\"dataframe\">\n",
              "  <thead>\n",
              "    <tr style=\"text-align: right;\">\n",
              "      <th></th>\n",
              "      <th>SL</th>\n",
              "      <th>EEG</th>\n",
              "      <th>BP</th>\n",
              "      <th>HR</th>\n",
              "      <th>CIRCULATION</th>\n",
              "      <th>ACTIVITY</th>\n",
              "    </tr>\n",
              "  </thead>\n",
              "  <tbody>\n",
              "    <tr>\n",
              "      <th>0</th>\n",
              "      <td>4019.64</td>\n",
              "      <td>-1600.00</td>\n",
              "      <td>13</td>\n",
              "      <td>79</td>\n",
              "      <td>317</td>\n",
              "      <td>3</td>\n",
              "    </tr>\n",
              "    <tr>\n",
              "      <th>1</th>\n",
              "      <td>2191.03</td>\n",
              "      <td>-1146.08</td>\n",
              "      <td>20</td>\n",
              "      <td>54</td>\n",
              "      <td>165</td>\n",
              "      <td>2</td>\n",
              "    </tr>\n",
              "    <tr>\n",
              "      <th>2</th>\n",
              "      <td>2787.99</td>\n",
              "      <td>-1263.38</td>\n",
              "      <td>46</td>\n",
              "      <td>67</td>\n",
              "      <td>224</td>\n",
              "      <td>2</td>\n",
              "    </tr>\n",
              "    <tr>\n",
              "      <th>3</th>\n",
              "      <td>9545.98</td>\n",
              "      <td>-2848.93</td>\n",
              "      <td>26</td>\n",
              "      <td>138</td>\n",
              "      <td>554</td>\n",
              "      <td>4</td>\n",
              "    </tr>\n",
              "    <tr>\n",
              "      <th>4</th>\n",
              "      <td>14148.80</td>\n",
              "      <td>-2381.15</td>\n",
              "      <td>85</td>\n",
              "      <td>120</td>\n",
              "      <td>809</td>\n",
              "      <td>4</td>\n",
              "    </tr>\n",
              "  </tbody>\n",
              "</table>\n",
              "</div>"
            ],
            "text/plain": [
              "         SL      EEG  BP   HR  CIRCULATION  ACTIVITY\n",
              "0   4019.64 -1600.00  13   79          317         3\n",
              "1   2191.03 -1146.08  20   54          165         2\n",
              "2   2787.99 -1263.38  46   67          224         2\n",
              "3   9545.98 -2848.93  26  138          554         4\n",
              "4  14148.80 -2381.15  85  120          809         4"
            ]
          },
          "metadata": {
            "tags": []
          },
          "execution_count": 2
        }
      ]
    },
    {
      "cell_type": "markdown",
      "metadata": {
        "id": "FC9XWgbnHEX5"
      },
      "source": [
        "### **Preparar dataset de entrenamiento.**"
      ]
    },
    {
      "cell_type": "code",
      "metadata": {
        "id": "fBHFcRYMHFjS"
      },
      "source": [
        "# Separar los descriptores (X) de las etiquetas (Y).\n",
        "X = df.values[:, 0:-1]\n",
        "Y = df.values[:, -1:]"
      ],
      "execution_count": 3,
      "outputs": []
    },
    {
      "cell_type": "code",
      "metadata": {
        "id": "1FdQG2VYHGIM"
      },
      "source": [
        "# Importar librería para separar dataset.\n",
        "from sklearn.model_selection import train_test_split"
      ],
      "execution_count": 4,
      "outputs": []
    },
    {
      "cell_type": "code",
      "metadata": {
        "id": "xxO5SKYoHGaM"
      },
      "source": [
        "# Dividir el conjunto original de entrenamiento en dos, uno de entrenamiento y otro de test.\n",
        "(trainData, testData, trainLabels, testLabels) = train_test_split(X, Y, test_size = 0.2, random_state = 42)"
      ],
      "execution_count": 5,
      "outputs": []
    },
    {
      "cell_type": "code",
      "metadata": {
        "id": "NvBJ1BLgHGnn"
      },
      "source": [
        "# Dividir el nuevo conjunto de entrenamiento en dos, uno de entrenamiento y otro de validación.\n",
        "(trainData, validationData, trainLabels, validationLabels) = train_test_split(trainData, trainLabels, test_size = 0.2, random_state = 42)"
      ],
      "execution_count": 6,
      "outputs": []
    },
    {
      "cell_type": "markdown",
      "metadata": {
        "id": "NTNkCVeIHrA_"
      },
      "source": [
        "### **Clasificadores.**"
      ]
    },
    {
      "cell_type": "code",
      "metadata": {
        "id": "Ot6NPS41IvxG"
      },
      "source": [
        "# Suprimir la salida de warnings por pantalla.\n",
        "import warnings\n",
        "warnings.simplefilter('ignore')"
      ],
      "execution_count": 15,
      "outputs": []
    },
    {
      "cell_type": "code",
      "metadata": {
        "id": "rACaNl_ZIz_z"
      },
      "source": [
        "# Importar los distintos clasificadores.\n",
        "from sklearn.neighbors import KNeighborsClassifier\n",
        "from sklearn.tree import DecisionTreeClassifier\n",
        "from sklearn.linear_model import LogisticRegression\n",
        "from sklearn.svm import SVC\n",
        "from sklearn.linear_model import Perceptron\n",
        "from sklearn.neural_network import MLPClassifier"
      ],
      "execution_count": 16,
      "outputs": []
    },
    {
      "cell_type": "markdown",
      "metadata": {
        "id": "U8RKo2MaJ6ca"
      },
      "source": [
        "#### **Holdout validation.**"
      ]
    },
    {
      "cell_type": "markdown",
      "metadata": {
        "id": "jG8zRnosIuNA"
      },
      "source": [
        "##### **KNN.**"
      ]
    },
    {
      "cell_type": "code",
      "metadata": {
        "colab": {
          "base_uri": "https://localhost:8080/"
        },
        "id": "H8DHFSCPIAW1",
        "outputId": "7cc7626c-2f58-4703-829c-3cb43502fe6d"
      },
      "source": [
        "# Probar disitintos valores del hiperparámetro k para buscar el mejor rendimiento.\n",
        "for k in range(1, 26, 2):\n",
        "    modelKNN = KNeighborsClassifier(n_neighbors = k)\n",
        "    modelKNN.fit(trainData, trainLabels)\n",
        "    score = modelKNN.score(validationData, validationLabels)\n",
        "    print(\"k=%d, precisión=%.2f%%\" % (k, score * 100))"
      ],
      "execution_count": 20,
      "outputs": [
        {
          "output_type": "stream",
          "text": [
            "k=1, precisión=59.11%\n",
            "k=3, precisión=59.95%\n",
            "k=5, precisión=60.10%\n",
            "k=7, precisión=60.62%\n",
            "k=9, precisión=60.47%\n",
            "k=11, precisión=60.10%\n",
            "k=13, precisión=59.84%\n",
            "k=15, precisión=59.17%\n",
            "k=17, precisión=58.54%\n",
            "k=19, precisión=58.44%\n",
            "k=21, precisión=57.81%\n",
            "k=23, precisión=57.60%\n",
            "k=25, precisión=57.29%\n"
          ],
          "name": "stdout"
        }
      ]
    },
    {
      "cell_type": "markdown",
      "metadata": {
        "id": "7RgA0iVlIkUp"
      },
      "source": [
        "- k = 7 produce el mejor resultado."
      ]
    },
    {
      "cell_type": "markdown",
      "metadata": {
        "id": "gqi1066KJE7f"
      },
      "source": [
        "##### **Árboles de decisión.**"
      ]
    },
    {
      "cell_type": "code",
      "metadata": {
        "colab": {
          "base_uri": "https://localhost:8080/"
        },
        "id": "QMB9uFEMJAG7",
        "outputId": "155dc2b4-798b-45a1-a583-e770bbadda02"
      },
      "source": [
        "# Probar disitintos valores del hiperparámetro min_samples_split para buscar el mejor rendimiento.\n",
        "for k in range(2, 10, 1):\n",
        "    modelArbol = DecisionTreeClassifier(random_state = 84, min_samples_split = k)\n",
        "    modelArbol.fit(trainData, trainLabels)\n",
        "    score = modelArbol.score(validationData, validationLabels)\n",
        "    print(\"min_samples_split=%d, precisión=%.2f%%\" % (k, score * 100))"
      ],
      "execution_count": 18,
      "outputs": [
        {
          "output_type": "stream",
          "text": [
            "min_samples_split=2, precisión=67.66%\n",
            "min_samples_split=3, precisión=67.76%\n",
            "min_samples_split=4, precisión=67.08%\n",
            "min_samples_split=5, precisión=66.93%\n",
            "min_samples_split=6, precisión=66.72%\n",
            "min_samples_split=7, precisión=67.08%\n",
            "min_samples_split=8, precisión=66.98%\n",
            "min_samples_split=9, precisión=67.03%\n"
          ],
          "name": "stdout"
        }
      ]
    },
    {
      "cell_type": "markdown",
      "metadata": {
        "id": "X1ADmb3-JdwO"
      },
      "source": [
        "- min_samples_split = 3 produce el mejor resultado."
      ]
    },
    {
      "cell_type": "markdown",
      "metadata": {
        "id": "xlpxV_xtJjtd"
      },
      "source": [
        "##### **Regresión logística.**"
      ]
    },
    {
      "cell_type": "code",
      "metadata": {
        "colab": {
          "base_uri": "https://localhost:8080/"
        },
        "id": "6-UZkZxxJnyq",
        "outputId": "54994940-8c4f-4602-c1d9-3b2ee94a52af"
      },
      "source": [
        "valores = [0.1, 1, 10, 100, 1000]\n",
        "for c in valores:\n",
        "    modelLR = LogisticRegression(random_state = 84, C = c)\n",
        "    modelLR.fit(trainData, trainLabels)\n",
        "    score = modelLR.score(validationData, validationLabels)\n",
        "    print(\"c=%d, precisión=%.2f%%\" % (c, score * 100))"
      ],
      "execution_count": 19,
      "outputs": [
        {
          "output_type": "stream",
          "text": [
            "c=0, precisión=29.22%\n",
            "c=1, precisión=30.05%\n",
            "c=10, precisión=29.38%\n",
            "c=100, precisión=29.48%\n",
            "c=1000, precisión=29.43%\n"
          ],
          "name": "stdout"
        }
      ]
    },
    {
      "cell_type": "markdown",
      "metadata": {
        "id": "bGUOIra7Jv5O"
      },
      "source": [
        "- C = 1 produce el mejor resultado."
      ]
    },
    {
      "cell_type": "markdown",
      "metadata": {
        "id": "o2KtzjPnKJsU"
      },
      "source": [
        "#### **K-fold validation.**"
      ]
    },
    {
      "cell_type": "markdown",
      "metadata": {
        "id": "7U-GYtmgLJhl"
      },
      "source": [
        "Hacer la separación entre entrenamiento y validación de manera no manual."
      ]
    },
    {
      "cell_type": "code",
      "metadata": {
        "id": "VKQOtQ9lKbnn"
      },
      "source": [
        "# Recuperar el conjunto de entrenamiento original, formado por el de entrenamiento y el de validación.\n",
        "import numpy as np\n",
        "trainData = np.concatenate((trainData, validationData), axis = 0)\n",
        "trainLabels = np.concatenate((trainLabels, validationLabels), axis = 0)"
      ],
      "execution_count": 21,
      "outputs": []
    },
    {
      "cell_type": "markdown",
      "metadata": {
        "id": "HzeUYcZKKcHZ"
      },
      "source": [
        "##### **KNN.**"
      ]
    },
    {
      "cell_type": "code",
      "metadata": {
        "colab": {
          "base_uri": "https://localhost:8080/"
        },
        "id": "0gnBXgxYK5k6",
        "outputId": "9a7f3107-f331-4707-f9b2-b29be1fd02a5"
      },
      "source": [
        "from sklearn.model_selection import cross_val_score\n",
        "\n",
        "for k in range(1, 26, 2):\n",
        "    modelKNN = KNeighborsClassifier(n_neighbors = k)\n",
        "    scores = cross_val_score(modelKNN, trainData, trainLabels, cv = 10)\n",
        "    print(\"k=%d, Precisión: %0.2f (+/- %0.2f)\" % (k, scores.mean(), scores.std() * 2))"
      ],
      "execution_count": 22,
      "outputs": [
        {
          "output_type": "stream",
          "text": [
            "k=1, Precisión: 0.60 (+/- 0.02)\n",
            "k=3, Precisión: 0.60 (+/- 0.02)\n",
            "k=5, Precisión: 0.61 (+/- 0.02)\n",
            "k=7, Precisión: 0.61 (+/- 0.01)\n",
            "k=9, Precisión: 0.60 (+/- 0.02)\n",
            "k=11, Precisión: 0.60 (+/- 0.02)\n",
            "k=13, Precisión: 0.60 (+/- 0.02)\n",
            "k=15, Precisión: 0.60 (+/- 0.02)\n",
            "k=17, Precisión: 0.59 (+/- 0.02)\n",
            "k=19, Precisión: 0.59 (+/- 0.02)\n",
            "k=21, Precisión: 0.58 (+/- 0.03)\n",
            "k=23, Precisión: 0.58 (+/- 0.02)\n",
            "k=25, Precisión: 0.57 (+/- 0.02)\n"
          ],
          "name": "stdout"
        }
      ]
    },
    {
      "cell_type": "markdown",
      "metadata": {
        "id": "-ohnk9XoLp6W"
      },
      "source": [
        "- k = 7 sigue produciendo el mejor resultado."
      ]
    },
    {
      "cell_type": "markdown",
      "metadata": {
        "id": "x817yX9NL_4X"
      },
      "source": [
        "##### **SVM.**"
      ]
    },
    {
      "cell_type": "markdown",
      "metadata": {
        "id": "yas-q-wXMAi8"
      },
      "source": [
        "Para SVM se va a combinar k-fold cross validation con RandomGridSearch"
      ]
    },
    {
      "cell_type": "code",
      "metadata": {
        "id": "cX8jYo8bMTx3"
      },
      "source": [
        "# Crear clasificador,\n",
        "modelSVM = SVC(kernel = 'sigmoid')"
      ],
      "execution_count": 23,
      "outputs": []
    },
    {
      "cell_type": "code",
      "metadata": {
        "id": "YlgBhAbNL97Q"
      },
      "source": [
        "# Función RandomGridSearch.\n",
        "from sklearn.model_selection import RandomizedSearchCV\n",
        "from scipy.stats import randint as sp_randint\n",
        "\n",
        "def randomsearch(model, parameters):\n",
        "    print(\"# Tuning hyper-parameters for %s\" % score)\n",
        "    print()\n",
        "\n",
        "    clf = RandomizedSearchCV(model, parameters, cv = 5)\n",
        "    clf.fit(trainData, trainLabels)\n",
        "\n",
        "    print(\"Best parameters set found on development set:\")\n",
        "    print()\n",
        "    print(clf.best_params_)\n",
        "    print()"
      ],
      "execution_count": 25,
      "outputs": []
    },
    {
      "cell_type": "code",
      "metadata": {
        "colab": {
          "base_uri": "https://localhost:8080/"
        },
        "id": "pbpPa3lEM1Db",
        "outputId": "e93c688e-e4cb-4a9e-c617-6322ea5f11f3"
      },
      "source": [
        "# Ejecutar RandomGridSearch para encontrar el mejor gamma y C.\n",
        "randomsearch(modelSVM, {'gamma': sp_randint(2, 20), 'C': sp_randint(0.1, 100)})"
      ],
      "execution_count": 27,
      "outputs": [
        {
          "output_type": "stream",
          "text": [
            "# Tuning hyper-parameters for 0.5729166666666666\n",
            "\n",
            "Best parameters set found on development set:\n",
            "\n",
            "{'C': 1, 'gamma': 7}\n",
            "\n"
          ],
          "name": "stdout"
        }
      ]
    },
    {
      "cell_type": "markdown",
      "metadata": {
        "id": "-r_gaSo8O7s1"
      },
      "source": [
        "- C = 1\n",
        "- gamma = 7"
      ]
    },
    {
      "cell_type": "markdown",
      "metadata": {
        "id": "mZqlqQ35OBt0"
      },
      "source": [
        "##### **Redes neuronales.**"
      ]
    },
    {
      "cell_type": "code",
      "metadata": {
        "id": "UCW-M91COQk0"
      },
      "source": [
        "# Crear una red neuronal.\n",
        "modelMultiLayerPerceptron = MLPClassifier()"
      ],
      "execution_count": 28,
      "outputs": []
    },
    {
      "cell_type": "code",
      "metadata": {
        "colab": {
          "base_uri": "https://localhost:8080/"
        },
        "id": "V4MzoLHAOFdB",
        "outputId": "ed96402d-ef34-4f71-9151-43a5b0b6645b"
      },
      "source": [
        "# Ejecutar RandomGridSearch para encontrar el mejor hidden_layer_sizes, activation, momentun y learning_rate.\n",
        "randomsearch(modelMultiLayerPerceptron, {'hidden_layer_sizes': [(5, 2), (3, 3, 3), (5, 3, 2), (5, 4, 3, 2)],\n",
        "                                         'activation': ['identity', 'logistic', 'tanh', 'relu'],\n",
        "                                         'momentum': [0.9, 0.95, 0.99],\n",
        "                                         'learning_rate_init': [0.001, 0.01, 0.1]})"
      ],
      "execution_count": 29,
      "outputs": [
        {
          "output_type": "stream",
          "text": [
            "# Tuning hyper-parameters for 0.5729166666666666\n",
            "\n",
            "Best parameters set found on development set:\n",
            "\n",
            "{'momentum': 0.99, 'learning_rate_init': 0.001, 'hidden_layer_sizes': (3, 3, 3), 'activation': 'tanh'}\n",
            "\n"
          ],
          "name": "stdout"
        }
      ]
    },
    {
      "cell_type": "markdown",
      "metadata": {
        "id": "wrbp_Mw8PHuT"
      },
      "source": [
        "- momentum = 0.99\n",
        "- learning_rate_init = 0.001\n",
        "- hidden_layer_sizes = (3, 3, 3)\n",
        "- activation = 'tanh'"
      ]
    },
    {
      "cell_type": "markdown",
      "metadata": {
        "id": "3SwE2lafPo72"
      },
      "source": [
        "#### **Evaluación de clasificadores.**"
      ]
    },
    {
      "cell_type": "markdown",
      "metadata": {
        "id": "P5thZSYzRs4L"
      },
      "source": [
        "#####Crear clasificadores con los hiperparámetros encontrados."
      ]
    },
    {
      "cell_type": "code",
      "metadata": {
        "colab": {
          "base_uri": "https://localhost:8080/"
        },
        "id": "WvvzN9BTP3vI",
        "outputId": "f0feb96e-8392-41d0-c3df-58c612e1a8f3"
      },
      "source": [
        "# KNN.\n",
        "modelKNN = KNeighborsClassifier(n_neighbors = 7)\n",
        "modelKNN.fit(trainData, trainLabels)"
      ],
      "execution_count": 30,
      "outputs": [
        {
          "output_type": "execute_result",
          "data": {
            "text/plain": [
              "KNeighborsClassifier(algorithm='auto', leaf_size=30, metric='minkowski',\n",
              "                     metric_params=None, n_jobs=None, n_neighbors=7, p=2,\n",
              "                     weights='uniform')"
            ]
          },
          "metadata": {
            "tags": []
          },
          "execution_count": 30
        }
      ]
    },
    {
      "cell_type": "code",
      "metadata": {
        "colab": {
          "base_uri": "https://localhost:8080/"
        },
        "id": "UaR4LMWzQKjI",
        "outputId": "4a18890c-947e-4c17-df57-600b16000fba"
      },
      "source": [
        "# Árboles de decisión.\n",
        "modelArbol = DecisionTreeClassifier(random_state = 84, min_samples_split = 3)\n",
        "modelArbol.fit(trainData, trainLabels)"
      ],
      "execution_count": 31,
      "outputs": [
        {
          "output_type": "execute_result",
          "data": {
            "text/plain": [
              "DecisionTreeClassifier(ccp_alpha=0.0, class_weight=None, criterion='gini',\n",
              "                       max_depth=None, max_features=None, max_leaf_nodes=None,\n",
              "                       min_impurity_decrease=0.0, min_impurity_split=None,\n",
              "                       min_samples_leaf=1, min_samples_split=3,\n",
              "                       min_weight_fraction_leaf=0.0, presort='deprecated',\n",
              "                       random_state=84, splitter='best')"
            ]
          },
          "metadata": {
            "tags": []
          },
          "execution_count": 31
        }
      ]
    },
    {
      "cell_type": "code",
      "metadata": {
        "colab": {
          "base_uri": "https://localhost:8080/"
        },
        "id": "-safKqs1Qzdr",
        "outputId": "1940f68f-fbcd-4203-9b33-b59114c4fc71"
      },
      "source": [
        "# Regresión logística.\n",
        "modelLR = LogisticRegression(random_state = 84, C = 1)\n",
        "modelLR.fit(trainData, trainLabels)"
      ],
      "execution_count": 32,
      "outputs": [
        {
          "output_type": "execute_result",
          "data": {
            "text/plain": [
              "LogisticRegression(C=1, class_weight=None, dual=False, fit_intercept=True,\n",
              "                   intercept_scaling=1, l1_ratio=None, max_iter=100,\n",
              "                   multi_class='auto', n_jobs=None, penalty='l2',\n",
              "                   random_state=84, solver='lbfgs', tol=0.0001, verbose=0,\n",
              "                   warm_start=False)"
            ]
          },
          "metadata": {
            "tags": []
          },
          "execution_count": 32
        }
      ]
    },
    {
      "cell_type": "code",
      "metadata": {
        "colab": {
          "base_uri": "https://localhost:8080/"
        },
        "id": "UHoOQPj0Q9K2",
        "outputId": "bbd94b4d-c2a0-4584-dbe1-caab7595a364"
      },
      "source": [
        "# SVM.\n",
        "modelSVM = SVC(kernel = 'sigmoid', gamma = 7, C = 1)\n",
        "modelSVM.fit(trainData, trainLabels)"
      ],
      "execution_count": 33,
      "outputs": [
        {
          "output_type": "execute_result",
          "data": {
            "text/plain": [
              "SVC(C=1, break_ties=False, cache_size=200, class_weight=None, coef0=0.0,\n",
              "    decision_function_shape='ovr', degree=3, gamma=7, kernel='sigmoid',\n",
              "    max_iter=-1, probability=False, random_state=None, shrinking=True,\n",
              "    tol=0.001, verbose=False)"
            ]
          },
          "metadata": {
            "tags": []
          },
          "execution_count": 33
        }
      ]
    },
    {
      "cell_type": "code",
      "metadata": {
        "colab": {
          "base_uri": "https://localhost:8080/"
        },
        "id": "YHm0cdd1RFN0",
        "outputId": "6e25b09a-ed1e-44a6-9de8-89042038f8e4"
      },
      "source": [
        "# Redes neuronales.\n",
        "modelMultiLayerPerceptron = MLPClassifier(momentum=0.99, activation='tanh', learning_rate_init=0.001, hidden_layer_sizes=(3, 3, 3))\n",
        "modelMultiLayerPerceptron.fit(trainData, trainLabels)"
      ],
      "execution_count": 34,
      "outputs": [
        {
          "output_type": "execute_result",
          "data": {
            "text/plain": [
              "MLPClassifier(activation='tanh', alpha=0.0001, batch_size='auto', beta_1=0.9,\n",
              "              beta_2=0.999, early_stopping=False, epsilon=1e-08,\n",
              "              hidden_layer_sizes=(3, 3, 3), learning_rate='constant',\n",
              "              learning_rate_init=0.001, max_fun=15000, max_iter=200,\n",
              "              momentum=0.99, n_iter_no_change=10, nesterovs_momentum=True,\n",
              "              power_t=0.5, random_state=None, shuffle=True, solver='adam',\n",
              "              tol=0.0001, validation_fraction=0.1, verbose=False,\n",
              "              warm_start=False)"
            ]
          },
          "metadata": {
            "tags": []
          },
          "execution_count": 34
        }
      ]
    },
    {
      "cell_type": "markdown",
      "metadata": {
        "id": "L5DcfvxoR1fk"
      },
      "source": [
        "##### Evaluación de los clasificadores."
      ]
    },
    {
      "cell_type": "code",
      "metadata": {
        "id": "YEdsYsU7R69B"
      },
      "source": [
        "# Importar informe de rendimiento del clasificador.\n",
        "from sklearn.metrics import classification_report"
      ],
      "execution_count": 35,
      "outputs": []
    },
    {
      "cell_type": "code",
      "metadata": {
        "colab": {
          "base_uri": "https://localhost:8080/"
        },
        "id": "I1i77SJLR5kt",
        "outputId": "d39e2943-b566-4111-c21c-7285f41ea8bb"
      },
      "source": [
        "print(\"EVALUACIÓN EN CONJUNTO DE TEST USANDO KNN\")\n",
        "predictionsKNN = modelKNN.predict(testData)\n",
        "print(classification_report(testLabels, predictionsKNN))"
      ],
      "execution_count": 36,
      "outputs": [
        {
          "output_type": "stream",
          "text": [
            "EVALUACIÓN EN CONJUNTO DE TEST USANDO KNN\n",
            "              precision    recall  f1-score   support\n",
            "\n",
            "         0.0       0.78      0.68      0.73       695\n",
            "         1.0       0.54      0.69      0.60        77\n",
            "         2.0       0.55      0.63      0.59       346\n",
            "         3.0       0.50      0.61      0.55       498\n",
            "         4.0       0.59      0.53      0.56       541\n",
            "         5.0       0.48      0.41      0.44       243\n",
            "\n",
            "    accuracy                           0.60      2400\n",
            "   macro avg       0.57      0.59      0.58      2400\n",
            "weighted avg       0.61      0.60      0.60      2400\n",
            "\n"
          ],
          "name": "stdout"
        }
      ]
    },
    {
      "cell_type": "code",
      "metadata": {
        "colab": {
          "base_uri": "https://localhost:8080/"
        },
        "id": "3cG9gEiESHSd",
        "outputId": "f648f383-4891-4e3c-8f36-6bac72141973"
      },
      "source": [
        "print(\"EVALUACIÓN EN CONJUNTO DE TEST USANDO ÁRBOLES DE DECISIÓN\")\n",
        "predictionsArbol = modelArbol.predict(testData)\n",
        "print(classification_report(testLabels, predictionsArbol))"
      ],
      "execution_count": 37,
      "outputs": [
        {
          "output_type": "stream",
          "text": [
            "EVALUACIÓN EN CONJUNTO DE TEST USANDO ÁRBOLES DE DECISIÓN\n",
            "              precision    recall  f1-score   support\n",
            "\n",
            "         0.0       0.91      0.85      0.88       695\n",
            "         1.0       0.64      0.77      0.70        77\n",
            "         2.0       0.61      0.64      0.63       346\n",
            "         3.0       0.55      0.59      0.57       498\n",
            "         4.0       0.59      0.58      0.59       541\n",
            "         5.0       0.55      0.50      0.52       243\n",
            "\n",
            "    accuracy                           0.67      2400\n",
            "   macro avg       0.64      0.66      0.65      2400\n",
            "weighted avg       0.67      0.67      0.67      2400\n",
            "\n"
          ],
          "name": "stdout"
        }
      ]
    },
    {
      "cell_type": "code",
      "metadata": {
        "colab": {
          "base_uri": "https://localhost:8080/"
        },
        "id": "BjDDmgxDSLwb",
        "outputId": "657ea403-012d-40b6-b787-b6798aee14ae"
      },
      "source": [
        "print(\"EVALUACIÓN EN CONJUNTO DE TEST USANDO REGRESIÓN LOGÍSTICA\")\n",
        "predictionsLR = modelLR.predict(testData)\n",
        "print(classification_report(testLabels, predictionsLR))"
      ],
      "execution_count": 38,
      "outputs": [
        {
          "output_type": "stream",
          "text": [
            "EVALUACIÓN EN CONJUNTO DE TEST USANDO REGRESIÓN LOGÍSTICA\n",
            "              precision    recall  f1-score   support\n",
            "\n",
            "         0.0       0.31      0.92      0.47       695\n",
            "         1.0       0.00      0.00      0.00        77\n",
            "         2.0       0.50      0.08      0.13       346\n",
            "         3.0       0.00      0.00      0.00       498\n",
            "         4.0       0.32      0.18      0.23       541\n",
            "         5.0       0.17      0.00      0.01       243\n",
            "\n",
            "    accuracy                           0.32      2400\n",
            "   macro avg       0.22      0.20      0.14      2400\n",
            "weighted avg       0.25      0.32      0.21      2400\n",
            "\n"
          ],
          "name": "stdout"
        }
      ]
    },
    {
      "cell_type": "code",
      "metadata": {
        "colab": {
          "base_uri": "https://localhost:8080/"
        },
        "id": "zxX541E6SNVN",
        "outputId": "455b9773-24a5-4b37-ba71-6d905c9bf31a"
      },
      "source": [
        "print(\"EVALUACIÓN EN CONJUNTO DE TEST USANDO SVM\")\n",
        "predictionsSVM = modelSVM.predict(testData)\n",
        "print(classification_report(testLabels, predictionsSVM))"
      ],
      "execution_count": 39,
      "outputs": [
        {
          "output_type": "stream",
          "text": [
            "EVALUACIÓN EN CONJUNTO DE TEST USANDO SVM\n",
            "              precision    recall  f1-score   support\n",
            "\n",
            "         0.0       0.29      1.00      0.45       695\n",
            "         1.0       0.00      0.00      0.00        77\n",
            "         2.0       0.00      0.00      0.00       346\n",
            "         3.0       0.00      0.00      0.00       498\n",
            "         4.0       0.00      0.00      0.00       541\n",
            "         5.0       0.00      0.00      0.00       243\n",
            "\n",
            "    accuracy                           0.29      2400\n",
            "   macro avg       0.05      0.17      0.07      2400\n",
            "weighted avg       0.08      0.29      0.13      2400\n",
            "\n"
          ],
          "name": "stdout"
        }
      ]
    },
    {
      "cell_type": "code",
      "metadata": {
        "colab": {
          "base_uri": "https://localhost:8080/"
        },
        "id": "POFTAK-BSPR-",
        "outputId": "2f8d9d67-d35a-4882-f489-b5615513f0f6"
      },
      "source": [
        "print(\"EVALUACIÓN EN CONJUNTO DE TEST USANDO REDES NEURONALES\")\n",
        "predictionsMultiLayerPerceptron = modelMultiLayerPerceptron.predict(testData)\n",
        "print(classification_report(testLabels, predictionsMultiLayerPerceptron))"
      ],
      "execution_count": 40,
      "outputs": [
        {
          "output_type": "stream",
          "text": [
            "EVALUACIÓN EN CONJUNTO DE TEST USANDO REDES NEURONALES\n",
            "              precision    recall  f1-score   support\n",
            "\n",
            "         0.0       0.29      0.96      0.45       695\n",
            "         1.0       0.00      0.00      0.00        77\n",
            "         2.0       0.29      0.11      0.16       346\n",
            "         3.0       0.00      0.00      0.00       498\n",
            "         4.0       0.40      0.00      0.01       541\n",
            "         5.0       0.00      0.00      0.00       243\n",
            "\n",
            "    accuracy                           0.29      2400\n",
            "   macro avg       0.16      0.18      0.10      2400\n",
            "weighted avg       0.22      0.29      0.15      2400\n",
            "\n"
          ],
          "name": "stdout"
        }
      ]
    },
    {
      "cell_type": "markdown",
      "metadata": {
        "id": "nTgsBRqdSgra"
      },
      "source": [
        "- Mejor precisión: Árboles de decisión, 67%.\n",
        "- Mejor recall: Árboles de decisión, 67%.\n",
        "- Mejor f-score: Árboles de decisión, 67%."
      ]
    },
    {
      "cell_type": "markdown",
      "metadata": {
        "id": "bzfSiiihTehJ"
      },
      "source": [
        "#### **Estudio estadístico.**"
      ]
    },
    {
      "cell_type": "code",
      "metadata": {
        "colab": {
          "base_uri": "https://localhost:8080/"
        },
        "id": "yYMpborGVRuv",
        "outputId": "bdff039f-13b7-4a63-bf05-198f6d4276ab"
      },
      "source": [
        "# Instalar módulo StatisticalAnalysis para tener acceso a la función compare_methods().\n",
        "!pip install StatisticalAnalysis"
      ],
      "execution_count": 51,
      "outputs": [
        {
          "output_type": "stream",
          "text": [
            "Collecting StatisticalAnalysis\n",
            "  Downloading https://files.pythonhosted.org/packages/76/10/1c28b9f30784d467201ce03c26d3669a91273cc96e86473dd480319e0d0d/StatisticalAnalysis-0.0.5.tar.gz\n",
            "Building wheels for collected packages: StatisticalAnalysis\n",
            "  Building wheel for StatisticalAnalysis (setup.py) ... \u001b[?25l\u001b[?25hdone\n",
            "  Created wheel for StatisticalAnalysis: filename=StatisticalAnalysis-0.0.5-py2.py3-none-any.whl size=13106 sha256=5af97ccb736853c4cb2fdeae5de64f5eb4965a978c4b10af03cb556413b5cbc7\n",
            "  Stored in directory: /root/.cache/pip/wheels/08/25/c2/06c9fdf3fc87bad4738237bc3318b20a7971189d5399f26ef7\n",
            "Successfully built StatisticalAnalysis\n",
            "Installing collected packages: StatisticalAnalysis\n",
            "Successfully installed StatisticalAnalysis-0.0.5\n"
          ],
          "name": "stdout"
        }
      ]
    },
    {
      "cell_type": "code",
      "metadata": {
        "id": "FEKah26YVlw-"
      },
      "source": [
        "# Importar compare_methods() para llevar a cabo estudio estadístico.\n",
        "from StatisticalAnalysis import compare_methods"
      ],
      "execution_count": 52,
      "outputs": []
    },
    {
      "cell_type": "code",
      "metadata": {
        "id": "sjZOThkIWFGH"
      },
      "source": [
        "# Definir modelos y parámetros a optimizar.\n",
        "#\n",
        "# Árbol de decisión\n",
        "clfTree = DecisionTreeClassifier(random_state = 84)\n",
        "param_distTree = {\"min_samples_split\": sp_randint(3, 30)}\n",
        "# SVM\n",
        "clfSVC = SVC(random_state=84)\n",
        "param_distSVC = {'C': [1, 10, 100, 1000], 'gamma': [0.001, 0.0001],'kernel': ['rbf', 'sigmoid'], 'class_weight':['balanced', None]}\n",
        "# KNN\n",
        "clfKNN = KNeighborsClassifier()\n",
        "param_distKNN = {'n_neighbors': sp_randint(3, 30)}\n",
        "# Regresión logística\n",
        "clfLR = LogisticRegression(random_state=84)\n",
        "param_distLR = {'C': [0.1, 0.5, 1, 10, 100, 1000]}\n",
        "# Red neuronal\n",
        "clfMLP = MLPClassifier(random_state=84)\n",
        "param_distMLP = {'activation': ['identity', 'logistic', 'tanh', 'relu'], 'solver': ['lbfgs', 'sgd', 'adam'],\n",
        "                 'alpha': sp_randint(0.0001, 1), 'learning_rate': ['constant', 'invscaling', 'adaptive'],\n",
        "                 'hidden_layer_sizes': [(5, 2), (3, 3, 3), (5, 3, 2), (5, 4, 3, 2)],\n",
        "                 'momentum': [0.9, 0.95, 0.99], 'learning_rate_init': [0.001, 0.01, 0.1]}"
      ],
      "execution_count": 53,
      "outputs": []
    },
    {
      "cell_type": "code",
      "metadata": {
        "id": "dwpI8zt5WrHw"
      },
      "source": [
        "# Lista con algoritmos.\n",
        "listAlgorithms = [clfTree, clfSVC, clfKNN, clfLR, clfMLP]"
      ],
      "execution_count": 54,
      "outputs": []
    },
    {
      "cell_type": "code",
      "metadata": {
        "id": "8gK_QuQpWwEr"
      },
      "source": [
        "# Lista con parámetros a optimizar.\n",
        "listParams = [param_distTree, param_distSVC, param_distKNN, param_distLR, param_distMLP]"
      ],
      "execution_count": 55,
      "outputs": []
    },
    {
      "cell_type": "code",
      "metadata": {
        "id": "nDzB9BnAW0su"
      },
      "source": [
        "# Lista con los nombres de los algoritmos.\n",
        "listNames = [\"Arbol\", \"SVM\", \"KNN\", \"LR\", \"MLP\"]"
      ],
      "execution_count": 56,
      "outputs": []
    },
    {
      "cell_type": "code",
      "metadata": {
        "colab": {
          "base_uri": "https://localhost:8080/",
          "height": 1000
        },
        "id": "5nCaxBLZW8zN",
        "outputId": "32ec4c40-95cd-4d56-ff8d-7c6a1baa30e6"
      },
      "source": [
        "compare_methods(X, Y, listAlgorithms, listParams, listNames, metric = 'accuracy')"
      ],
      "execution_count": 59,
      "outputs": [
        {
          "output_type": "stream",
          "text": [
            "temp.csv\n",
            "['Arbol' 'SVM' 'KNN' 'LR' 'MLP']\n",
            "==========================================================\n",
            "Report\n",
            "==========================================================\n",
            "**********************************************************\n",
            "Mean and std\n",
            "**********************************************************\n",
            "Arbol: 0.681640 (0.008244)\n",
            "SVM: 0.554212 (0.015871)\n",
            "KNN: 0.607633 (0.013861)\n",
            "LR: 0.307025 (0.016507)\n",
            "MLP: 0.306940 (0.020960)\n",
            "**********************************************************\n",
            "Statistical tests\n",
            "**********************************************************\n",
            "----------------------------------------------------------\n",
            "Checking parametric conditions \n",
            "----------------------------------------------------------\n",
            "Checking independence \n",
            "Ok\n",
            "Checking normality using Shapiro-Wilk's test for normality, alpha=0.05\n",
            "W: 0.826794, p:0.000004\n",
            "The null hypothesis (normality) is rejected\n",
            "Checking heteroscedasticity using Levene's test, alpha=0.05\n",
            "W: 1.529368, p:0.209804\n",
            "The null hypothesis (heteroscedasticity) is rejected\n",
            "Conditions for a parametric test are not fulfilled, applying a non-parametric test\n",
            "----------------------------------------------------------\n",
            "Working with more than 2 algorithms\n",
            "----------------------------------------------------------\n",
            "----------------------------------------------------------\n",
            "Applying Friedman test\n",
            "----------------------------------------------------------\n",
            "F-value: 171.000000, p-value: 1.1102230246251565e-16\n",
            "Null hypothesis is rejected; hence, models have different performance\n",
            "Technique      Ranking\n",
            "-----------  ---------\n",
            "Arbol              5\n",
            "KNN                4\n",
            "SVM                3\n",
            "MLP                1.5\n",
            "LR                 1.5\n",
            "Winner model: Arbol\n",
            "----------------------------------------------------------\n",
            "Applying Holm p-value adjustment procedure and analysing effect size\n",
            "----------------------------------------------------------\n",
            "Comparison      Zvalue      p-value    adjusted p-value\n",
            "------------  --------  -----------  ------------------\n",
            "Arbol vs LR    4.94975  7.43098e-07         2.97239e-06\n",
            "Arbol vs MLP   4.94975  7.43098e-07         2.97239e-06\n",
            "Arbol vs SVM   2.82843  0.00467773          0.00935547\n",
            "Arbol vs KNN   1.41421  0.157299            0.157299\n",
            "There is a significant difference between the models: Arbol (mean: 0.681640, std: 0.008244) and LR (mean: 0.307025, std: 0.016507) (Cohen's d=27.239034175309104, Large)\n",
            "There is a significant difference between the models: Arbol (mean: 0.681640, std: 0.008244) and MLP (mean: 0.306940, std: 0.020960) (Cohen's d=22.320049861850823, Large)\n",
            "There is a significant difference between the models: Arbol (mean: 0.681640, std: 0.008244) and SVM (mean: 0.554212, std: 0.015871) (Cohen's d=9.55925036906894, Large)\n",
            "There is a significant difference between the models: Arbol (mean: 0.681640, std: 0.008244) and KNN (mean: 0.607633, std: 0.013861) (Cohen's d=6.156527168212147, Large)\n",
            "Eta squared: 0.990042 (Large)\n"
          ],
          "name": "stdout"
        },
        {
          "output_type": "display_data",
          "data": {
            "image/png": "[encoded data removed]",
            "text/plain": [
              "<Figure size 432x288 with 1 Axes>"
            ]
          },
          "metadata": {
            "tags": [],
            "needs_background": "light"
          }
        }
      ]
    },
    {
      "cell_type": "markdown",
      "metadata": {
        "id": "_r3kx62aXw8R"
      },
      "source": [
        "Se ha ejecutado un test no paramétrico (test de Friedman), ya que no se cumplen las condiciones de parametricidad (independencia, normalidad y heterocedasticidad).\n",
        "\n",
        "La hipótesis nula se rechaza, esto significa que existe diferencia entre el rendimiento de los distintos modelos.\n",
        "\n",
        "El informe determina que el mejor modelo es el proporcionado por el árbol de decisión."
      ]
    },
    {
      "cell_type": "markdown",
      "metadata": {
        "id": "RX6XmpwhZ_9b"
      },
      "source": [
        "### **Escalado de datos.**"
      ]
    },
    {
      "cell_type": "markdown",
      "metadata": {
        "id": "-3kF5b-2abgj"
      },
      "source": [
        "Los modelos suelen aprender mejor cuando todos los descriptores están en la misma escala."
      ]
    },
    {
      "cell_type": "markdown",
      "metadata": {
        "id": "_hQI9wI8akxU"
      },
      "source": [
        "#### **Normalizar.**"
      ]
    },
    {
      "cell_type": "markdown",
      "metadata": {
        "id": "GknriNHMdAXi"
      },
      "source": [
        "Reescalar los descriptores en el rango [0,1]."
      ]
    },
    {
      "cell_type": "code",
      "metadata": {
        "id": "CN7Bi2K_aLaB"
      },
      "source": [
        "# Importar y crear herramienta de normalizado de descriptores.\n",
        "from sklearn.preprocessing import MinMaxScaler\n",
        "mms = MinMaxScaler()"
      ],
      "execution_count": 60,
      "outputs": []
    },
    {
      "cell_type": "code",
      "metadata": {
        "id": "9zKJZbgwaxwr"
      },
      "source": [
        "# Normalizar.\n",
        "X_train_norm = mms.fit_transform(trainData)\n",
        "X_test_norm = mms.transform(testData)"
      ],
      "execution_count": 61,
      "outputs": []
    },
    {
      "cell_type": "markdown",
      "metadata": {
        "id": "LpE06HwPc3WQ"
      },
      "source": [
        "#### **Estandarizar.**"
      ]
    },
    {
      "cell_type": "markdown",
      "metadata": {
        "id": "mJA_hmF6dICG"
      },
      "source": [
        "Centrar las columnas de descriptores con media 0 y desviación típica 1, de modo que los descriptores toman forma de una distribución normal (hace que los pesos se aprendan más fácilmente)."
      ]
    },
    {
      "cell_type": "code",
      "metadata": {
        "id": "E3SSCHqPc6JA"
      },
      "source": [
        "# Importar y crear herramienta para estandarizar.\n",
        "from sklearn.preprocessing import StandardScaler\n",
        "stdsc = StandardScaler()"
      ],
      "execution_count": 62,
      "outputs": []
    },
    {
      "cell_type": "code",
      "metadata": {
        "id": "ZCaxVksddyUo"
      },
      "source": [
        "# Estandarizar.\n",
        "X_train_std = stdsc.fit_transform(trainData)\n",
        "X_test_std = stdsc.transform(testData)"
      ],
      "execution_count": 63,
      "outputs": []
    },
    {
      "cell_type": "markdown",
      "metadata": {
        "id": "zhEA7UR3eTgB"
      },
      "source": [
        "#### **Evaluación de los nuevos conjuntos de entrenamiento.**"
      ]
    },
    {
      "cell_type": "markdown",
      "metadata": {
        "id": "ZtwKE2FcepQr"
      },
      "source": [
        "###### Conjunto de entrenamiento normalizado."
      ]
    },
    {
      "cell_type": "code",
      "metadata": {
        "colab": {
          "base_uri": "https://localhost:8080/"
        },
        "id": "dmQo5Xmweobh",
        "outputId": "ebd1a123-9c61-45b5-b594-2f1acf6d1b56"
      },
      "source": [
        "arbol_norm = DecisionTreeClassifier(random_state = 84, min_samples_split = 3)\n",
        "arbol_norm.fit(X_train_norm, trainLabels)"
      ],
      "execution_count": 65,
      "outputs": [
        {
          "output_type": "execute_result",
          "data": {
            "text/plain": [
              "DecisionTreeClassifier(ccp_alpha=0.0, class_weight=None, criterion='gini',\n",
              "                       max_depth=None, max_features=None, max_leaf_nodes=None,\n",
              "                       min_impurity_decrease=0.0, min_impurity_split=None,\n",
              "                       min_samples_leaf=1, min_samples_split=3,\n",
              "                       min_weight_fraction_leaf=0.0, presort='deprecated',\n",
              "                       random_state=84, splitter='best')"
            ]
          },
          "metadata": {
            "tags": []
          },
          "execution_count": 65
        }
      ]
    },
    {
      "cell_type": "code",
      "metadata": {
        "colab": {
          "base_uri": "https://localhost:8080/"
        },
        "id": "_88uMN0BeXzj",
        "outputId": "60179848-0aa8-46ae-a8ed-e0f7c8a9a637"
      },
      "source": [
        "score = arbol_norm.score(X_test_norm, testLabels)\n",
        "print(\"Precisión = %.2f%%\" % (score * 100))"
      ],
      "execution_count": 69,
      "outputs": [
        {
          "output_type": "stream",
          "text": [
            "Precisión = 67.25%\n"
          ],
          "name": "stdout"
        }
      ]
    },
    {
      "cell_type": "markdown",
      "metadata": {
        "id": "iZZUSet7ewv4"
      },
      "source": [
        "###### Conjunto de entrenamiento estandarizado."
      ]
    },
    {
      "cell_type": "code",
      "metadata": {
        "colab": {
          "base_uri": "https://localhost:8080/"
        },
        "id": "wdh3L3YifPPw",
        "outputId": "9869610b-e0c3-4739-936e-7fabafbc2295"
      },
      "source": [
        "arbol_std = DecisionTreeClassifier(random_state = 84, min_samples_split = 3)\n",
        "arbol_std.fit(X_train_std, trainLabels)"
      ],
      "execution_count": 71,
      "outputs": [
        {
          "output_type": "execute_result",
          "data": {
            "text/plain": [
              "DecisionTreeClassifier(ccp_alpha=0.0, class_weight=None, criterion='gini',\n",
              "                       max_depth=None, max_features=None, max_leaf_nodes=None,\n",
              "                       min_impurity_decrease=0.0, min_impurity_split=None,\n",
              "                       min_samples_leaf=1, min_samples_split=3,\n",
              "                       min_weight_fraction_leaf=0.0, presort='deprecated',\n",
              "                       random_state=84, splitter='best')"
            ]
          },
          "metadata": {
            "tags": []
          },
          "execution_count": 71
        }
      ]
    },
    {
      "cell_type": "code",
      "metadata": {
        "colab": {
          "base_uri": "https://localhost:8080/"
        },
        "id": "R9VB8B2rfhmb",
        "outputId": "2d44c86b-cbf2-48a8-d363-4be7600ca30f"
      },
      "source": [
        "score = arbol_std.score(X_test_std, testLabels)\n",
        "print(\"Precisión = %.2f%%\" % (score * 100))"
      ],
      "execution_count": 72,
      "outputs": [
        {
          "output_type": "stream",
          "text": [
            "Precisión = 67.67%\n"
          ],
          "name": "stdout"
        }
      ]
    },
    {
      "cell_type": "markdown",
      "metadata": {
        "id": "96b81V8BfoyB"
      },
      "source": [
        "###### Conjunto de entrenamiento original"
      ]
    },
    {
      "cell_type": "code",
      "metadata": {
        "colab": {
          "base_uri": "https://localhost:8080/"
        },
        "id": "koK8sXyafswI",
        "outputId": "d16a6053-8511-454f-8b8e-0e8672288301"
      },
      "source": [
        "arbol_og = DecisionTreeClassifier(random_state = 84, min_samples_split = 3)\n",
        "arbol_og.fit(trainData, trainLabels)"
      ],
      "execution_count": 74,
      "outputs": [
        {
          "output_type": "execute_result",
          "data": {
            "text/plain": [
              "DecisionTreeClassifier(ccp_alpha=0.0, class_weight=None, criterion='gini',\n",
              "                       max_depth=None, max_features=None, max_leaf_nodes=None,\n",
              "                       min_impurity_decrease=0.0, min_impurity_split=None,\n",
              "                       min_samples_leaf=1, min_samples_split=3,\n",
              "                       min_weight_fraction_leaf=0.0, presort='deprecated',\n",
              "                       random_state=84, splitter='best')"
            ]
          },
          "metadata": {
            "tags": []
          },
          "execution_count": 74
        }
      ]
    },
    {
      "cell_type": "code",
      "metadata": {
        "colab": {
          "base_uri": "https://localhost:8080/"
        },
        "id": "4mmRKmp5f3qt",
        "outputId": "aa95b434-6d1d-4065-b897-fd2dab91a66d"
      },
      "source": [
        "score = arbol_og.score(testData, testLabels)\n",
        "print(\"Precisión = %.2f%%\" % (score * 100))"
      ],
      "execution_count": 75,
      "outputs": [
        {
          "output_type": "stream",
          "text": [
            "Precisión = 66.88%\n"
          ],
          "name": "stdout"
        }
      ]
    },
    {
      "cell_type": "markdown",
      "metadata": {
        "id": "lWl-_KvmgEBX"
      },
      "source": [
        "### **Selección de descriptores relevantes.**"
      ]
    },
    {
      "cell_type": "code",
      "metadata": {
        "colab": {
          "base_uri": "https://localhost:8080/"
        },
        "id": "waotTr5rgBJE",
        "outputId": "cddedf25-fa31-4b3a-8559-09898bd5dc38"
      },
      "source": [
        "# Importar librerías.\n",
        "!wget https://raw.githubusercontent.com/IA1819/Code/master/sbs1.py -O sbs.py\n",
        "import matplotlib.pyplot as plt\n",
        "from sbs import SBS\n",
        "%matplotlib inline"
      ],
      "execution_count": 77,
      "outputs": [
        {
          "output_type": "stream",
          "text": [
            "--2021-04-12 14:37:59--  https://raw.githubusercontent.com/IA1819/Code/master/sbs1.py\n",
            "Resolving raw.githubusercontent.com (raw.githubusercontent.com)... 185.199.109.133, 185.199.108.133, 185.199.111.133, ...\n",
            "Connecting to raw.githubusercontent.com (raw.githubusercontent.com)|185.199.109.133|:443... connected.\n",
            "HTTP request sent, awaiting response... 200 OK\n",
            "Length: 1691 (1.7K) [text/plain]\n",
            "Saving to: ‘sbs.py’\n",
            "\n",
            "\rsbs.py                0%[                    ]       0  --.-KB/s               \rsbs.py              100%[===================>]   1.65K  --.-KB/s    in 0s      \n",
            "\n",
            "2021-04-12 14:38:00 (28.6 MB/s) - ‘sbs.py’ saved [1691/1691]\n",
            "\n"
          ],
          "name": "stdout"
        }
      ]
    },
    {
      "cell_type": "code",
      "metadata": {
        "colab": {
          "base_uri": "https://localhost:8080/"
        },
        "id": "Hd9QHFC2ge-0",
        "outputId": "9386f77f-25ea-4ebf-f67b-00904868b049"
      },
      "source": [
        "# Crear un clasificador y un selector de descriptores (mínimo tiene que tomar 1).\n",
        "arbol_desc = DecisionTreeClassifier(random_state = 84, min_samples_split = 3)\n",
        "sbs = SBS(arbol_desc, k_features=1)\n",
        "sbs.fit(X_train_std, trainLabels)"
      ],
      "execution_count": 78,
      "outputs": [
        {
          "output_type": "execute_result",
          "data": {
            "text/plain": [
              "<sbs.SBS at 0x7fba8a1f5390>"
            ]
          },
          "metadata": {
            "tags": []
          },
          "execution_count": 78
        }
      ]
    },
    {
      "cell_type": "code",
      "metadata": {
        "colab": {
          "base_uri": "https://localhost:8080/",
          "height": 284
        },
        "id": "_lZ4RUfXhNlM",
        "outputId": "bd7271b8-cf78-4752-8876-d7bb48cde954"
      },
      "source": [
        "# Mostrar gráficamente los subconjuntos que ofrecen el mejor rendimiento.\n",
        "k_feat = [len(k) for k in sbs.subsets_]\n",
        "plt.plot(k_feat, sbs.scores_, marker = 'o')\n",
        "plt.ylim([0.5, 1.1])\n",
        "plt.ylabel('Accuracy')\n",
        "plt.xlabel('Número de descriptores')\n",
        "plt.grid()\n",
        "plt.show()"
      ],
      "execution_count": 80,
      "outputs": [
        {
          "output_type": "display_data",
          "data": {
            "image/png": "[encoded data removed]",
            "text/plain": [
              "<Figure size 432x288 with 1 Axes>"
            ]
          },
          "metadata": {
            "tags": [],
            "needs_background": "light"
          }
        }
      ]
    },
    {
      "cell_type": "code",
      "metadata": {
        "colab": {
          "base_uri": "https://localhost:8080/"
        },
        "id": "BcJokKhMiIe5",
        "outputId": "f2c13bd6-f61b-442f-b34d-cd15136168ea"
      },
      "source": [
        "# Extraer los 2 descriptores más relevantes (resultado obtenido del gráfico anterior).\n",
        "desc = list(sbs.subsets_[sbs.scores_.index(max(sbs.scores_))])\n",
        "print(desc[0], ':', df.columns[desc[0]])\n",
        "print(desc[1], ':', df.columns[desc[1]])"
      ],
      "execution_count": 87,
      "outputs": [
        {
          "output_type": "stream",
          "text": [
            "3 : HR\n",
            "4 : CIRCULATION\n"
          ],
          "name": "stdout"
        }
      ]
    },
    {
      "cell_type": "code",
      "metadata": {
        "colab": {
          "base_uri": "https://localhost:8080/"
        },
        "id": "i6EQw0Z6lCAr",
        "outputId": "4a25e254-6785-4fdd-8997-9dfd8fedd2a6"
      },
      "source": [
        "# Creación y entrenamiento del modelo final.\n",
        "arbol_fin = DecisionTreeClassifier(random_state = 84, min_samples_split = 3)\n",
        "arbol_fin.fit(X_train_std[:, desc], trainLabels)"
      ],
      "execution_count": 90,
      "outputs": [
        {
          "output_type": "execute_result",
          "data": {
            "text/plain": [
              "DecisionTreeClassifier(ccp_alpha=0.0, class_weight=None, criterion='gini',\n",
              "                       max_depth=None, max_features=None, max_leaf_nodes=None,\n",
              "                       min_impurity_decrease=0.0, min_impurity_split=None,\n",
              "                       min_samples_leaf=1, min_samples_split=3,\n",
              "                       min_weight_fraction_leaf=0.0, presort='deprecated',\n",
              "                       random_state=84, splitter='best')"
            ]
          },
          "metadata": {
            "tags": []
          },
          "execution_count": 90
        }
      ]
    },
    {
      "cell_type": "code",
      "metadata": {
        "colab": {
          "base_uri": "https://localhost:8080/"
        },
        "id": "CyGkUNHAljYm",
        "outputId": "75723edf-1cf0-4efa-8ea3-d97e53de44b3"
      },
      "source": [
        "# Evaluación del modelo final.\n",
        "print(\"Training accuracy = %.2f%%\" % (arbol_fin.score(X_train_std[:, desc], trainLabels) * 100))\n",
        "print(\"Test accuracy = %.2f%%\" % (arbol_fin.score(X_test_std[:, desc], testLabels) * 100))"
      ],
      "execution_count": 95,
      "outputs": [
        {
          "output_type": "stream",
          "text": [
            "Training accuracy = 73.34%\n",
            "Test accuracy = 70.88%\n"
          ],
          "name": "stdout"
        }
      ]
    }
  ]
}